{
 "cells": [
  {
   "cell_type": "code",
   "execution_count": 217,
   "metadata": {},
   "outputs": [],
   "source": [
    "# Import Initial Dependencies\n",
    "import pandas as pd\n",
    "import matplotlib.pyplot as plt\n",
    "import numpy as np\n",
    "import yfinance as yf"
   ]
  },
  {
   "cell_type": "code",
   "execution_count": 218,
   "metadata": {},
   "outputs": [
    {
     "name": "stdout",
     "output_type": "stream",
     "text": [
      "[*********************100%***********************]  1 of 1 completed\n"
     ]
    }
   ],
   "source": [
    "# load in AAPL data\n",
    "dataset = yf.download(tickers='AAPL', period='6mo', interval = '1d')"
   ]
  },
  {
   "cell_type": "code",
   "execution_count": 219,
   "metadata": {},
   "outputs": [],
   "source": [
    "# Preprocess the data\n",
    "dataset.reset_index(inplace=True)\n",
    "dataset.rename(columns = {'index':'Date'}, inplace = True)"
   ]
  },
  {
   "cell_type": "code",
   "execution_count": 220,
   "metadata": {},
   "outputs": [],
   "source": [
    "SMA_20 = pd.Series(dataset.Close).rolling(20).mean()\n",
    "SMA_50 = pd.Series(dataset.Close).rolling(50).mean()"
   ]
  },
  {
   "cell_type": "code",
   "execution_count": 221,
   "metadata": {},
   "outputs": [],
   "source": [
    "dataset['SMA_20'] = SMA_20\n",
    "dataset['SMA_50'] = SMA_50"
   ]
  },
  {
   "cell_type": "code",
   "execution_count": 222,
   "metadata": {},
   "outputs": [],
   "source": [
    "# drop rows without SMA_20 or SMA_50 values\n",
    "dataset = dataset.iloc[50:, :]"
   ]
  },
  {
   "cell_type": "code",
   "execution_count": 223,
   "metadata": {},
   "outputs": [],
   "source": [
    "aapl = dataset[['Volume', 'SMA_20', 'SMA_50', 'Open', 'High', 'Low', 'Close']]"
   ]
  },
  {
   "cell_type": "code",
   "execution_count": 224,
   "metadata": {},
   "outputs": [],
   "source": [
    "X = aapl.iloc[:, :-1].values\n",
    "y = aapl.iloc[:, -1].values"
   ]
  },
  {
   "cell_type": "code",
   "execution_count": 225,
   "metadata": {},
   "outputs": [],
   "source": [
    "# Split data into training and test sets\n",
    "from sklearn.model_selection import train_test_split\n",
    "X_train, X_test, y_train, y_test = train_test_split(X, y, test_size = 0.2, random_state = 1)"
   ]
  },
  {
   "cell_type": "code",
   "execution_count": 226,
   "metadata": {},
   "outputs": [
    {
     "data": {
      "text/plain": [
       "LinearRegression()"
      ]
     },
     "execution_count": 226,
     "metadata": {},
     "output_type": "execute_result"
    }
   ],
   "source": [
    "# Train the model\n",
    "from sklearn.linear_model import LinearRegression\n",
    "# create instance of linearRegression class\n",
    "regressor = LinearRegression()\n",
    "# fit the model with training set\n",
    "regressor.fit(X_train, y_train)"
   ]
  },
  {
   "cell_type": "code",
   "execution_count": 227,
   "metadata": {},
   "outputs": [],
   "source": [
    "# predict test set results\n",
    "y_pred = regressor.predict(X_test)"
   ]
  },
  {
   "cell_type": "code",
   "execution_count": 228,
   "metadata": {},
   "outputs": [],
   "source": [
    "# Set precision values for nicer printing\n",
    "np.set_printoptions(precision=2)"
   ]
  },
  {
   "cell_type": "code",
   "execution_count": 229,
   "metadata": {},
   "outputs": [
    {
     "name": "stdout",
     "output_type": "stream",
     "text": [
      "[[138.06 139.07]\n",
      " [126.01 125.57]\n",
      " [130.6  132.05]\n",
      " [127.17 127.9 ]\n",
      " [122.88 123.99]\n",
      " [135.35 134.99]\n",
      " [122.13 125.86]\n",
      " [135.26 135.13]\n",
      " [135.1  135.37]\n",
      " [123.21 122.54]\n",
      " [126.22 127.79]\n",
      " [120.11 120.13]\n",
      " [135.71 136.69]\n",
      " [120.1  121.03]\n",
      " [134.25 133.94]]\n"
     ]
    }
   ],
   "source": [
    "# Compare predictions to test results\n",
    "print(np.concatenate((y_pred.reshape(len(y_pred), 1), y_test.reshape(len(y_pred), 1)), 1))"
   ]
  },
  {
   "cell_type": "markdown",
   "metadata": {},
   "source": [
    "From looking at our results - they're looking pretty good! Let's use Backward Elimination to see if any of the coefficients could be excluded."
   ]
  },
  {
   "cell_type": "code",
   "execution_count": 230,
   "metadata": {},
   "outputs": [
    {
     "data": {
      "text/html": [
       "<table class=\"simpletable\">\n",
       "<caption>OLS Regression Results</caption>\n",
       "<tr>\n",
       "  <th>Dep. Variable:</th>            <td>y</td>        <th>  R-squared:         </th> <td>   0.972</td>\n",
       "</tr>\n",
       "<tr>\n",
       "  <th>Model:</th>                   <td>OLS</td>       <th>  Adj. R-squared:    </th> <td>   0.970</td>\n",
       "</tr>\n",
       "<tr>\n",
       "  <th>Method:</th>             <td>Least Squares</td>  <th>  F-statistic:       </th> <td>   470.5</td>\n",
       "</tr>\n",
       "<tr>\n",
       "  <th>Date:</th>             <td>Mon, 12 Apr 2021</td> <th>  Prob (F-statistic):</th> <td>2.69e-51</td>\n",
       "</tr>\n",
       "<tr>\n",
       "  <th>Time:</th>                 <td>20:59:38</td>     <th>  Log-Likelihood:    </th> <td> -109.59</td>\n",
       "</tr>\n",
       "<tr>\n",
       "  <th>No. Observations:</th>      <td>    74</td>      <th>  AIC:               </th> <td>   231.2</td>\n",
       "</tr>\n",
       "<tr>\n",
       "  <th>Df Residuals:</th>          <td>    68</td>      <th>  BIC:               </th> <td>   245.0</td>\n",
       "</tr>\n",
       "<tr>\n",
       "  <th>Df Model:</th>              <td>     5</td>      <th>                     </th>     <td> </td>   \n",
       "</tr>\n",
       "<tr>\n",
       "  <th>Covariance Type:</th>      <td>nonrobust</td>    <th>                     </th>     <td> </td>   \n",
       "</tr>\n",
       "</table>\n",
       "<table class=\"simpletable\">\n",
       "<tr>\n",
       "    <td></td>       <th>coef</th>     <th>std err</th>      <th>t</th>      <th>P>|t|</th>  <th>[0.025</th>    <th>0.975]</th>  \n",
       "</tr>\n",
       "<tr>\n",
       "  <th>const</th> <td>    3.4171</td> <td>    6.724</td> <td>    0.508</td> <td> 0.613</td> <td>  -10.001</td> <td>   16.835</td>\n",
       "</tr>\n",
       "<tr>\n",
       "  <th>x1</th>    <td>-3.032e-08</td> <td> 4.81e-09</td> <td>   -6.309</td> <td> 0.000</td> <td>-3.99e-08</td> <td>-2.07e-08</td>\n",
       "</tr>\n",
       "<tr>\n",
       "  <th>x2</th>    <td>   -0.0319</td> <td>    0.043</td> <td>   -0.744</td> <td> 0.459</td> <td>   -0.117</td> <td>    0.054</td>\n",
       "</tr>\n",
       "<tr>\n",
       "  <th>x3</th>    <td>    0.0346</td> <td>    0.048</td> <td>    0.722</td> <td> 0.473</td> <td>   -0.061</td> <td>    0.130</td>\n",
       "</tr>\n",
       "<tr>\n",
       "  <th>x4</th>    <td>   -0.3616</td> <td>    0.115</td> <td>   -3.144</td> <td> 0.002</td> <td>   -0.591</td> <td>   -0.132</td>\n",
       "</tr>\n",
       "<tr>\n",
       "  <th>x5</th>    <td>    1.3414</td> <td>    0.117</td> <td>   11.463</td> <td> 0.000</td> <td>    1.108</td> <td>    1.575</td>\n",
       "</tr>\n",
       "</table>\n",
       "<table class=\"simpletable\">\n",
       "<tr>\n",
       "  <th>Omnibus:</th>       <td> 2.380</td> <th>  Durbin-Watson:     </th> <td>   2.195</td>\n",
       "</tr>\n",
       "<tr>\n",
       "  <th>Prob(Omnibus):</th> <td> 0.304</td> <th>  Jarque-Bera (JB):  </th> <td>   2.052</td>\n",
       "</tr>\n",
       "<tr>\n",
       "  <th>Skew:</th>          <td>-0.408</td> <th>  Prob(JB):          </th> <td>   0.359</td>\n",
       "</tr>\n",
       "<tr>\n",
       "  <th>Kurtosis:</th>      <td> 2.985</td> <th>  Cond. No.          </th> <td>5.77e+09</td>\n",
       "</tr>\n",
       "</table><br/><br/>Notes:<br/>[1] Standard Errors assume that the covariance matrix of the errors is correctly specified.<br/>[2] The condition number is large, 5.77e+09. This might indicate that there are<br/>strong multicollinearity or other numerical problems."
      ],
      "text/plain": [
       "<class 'statsmodels.iolib.summary.Summary'>\n",
       "\"\"\"\n",
       "                            OLS Regression Results                            \n",
       "==============================================================================\n",
       "Dep. Variable:                      y   R-squared:                       0.972\n",
       "Model:                            OLS   Adj. R-squared:                  0.970\n",
       "Method:                 Least Squares   F-statistic:                     470.5\n",
       "Date:                Mon, 12 Apr 2021   Prob (F-statistic):           2.69e-51\n",
       "Time:                        20:59:38   Log-Likelihood:                -109.59\n",
       "No. Observations:                  74   AIC:                             231.2\n",
       "Df Residuals:                      68   BIC:                             245.0\n",
       "Df Model:                           5                                         \n",
       "Covariance Type:            nonrobust                                         \n",
       "==============================================================================\n",
       "                 coef    std err          t      P>|t|      [0.025      0.975]\n",
       "------------------------------------------------------------------------------\n",
       "const          3.4171      6.724      0.508      0.613     -10.001      16.835\n",
       "x1         -3.032e-08   4.81e-09     -6.309      0.000   -3.99e-08   -2.07e-08\n",
       "x2            -0.0319      0.043     -0.744      0.459      -0.117       0.054\n",
       "x3             0.0346      0.048      0.722      0.473      -0.061       0.130\n",
       "x4            -0.3616      0.115     -3.144      0.002      -0.591      -0.132\n",
       "x5             1.3414      0.117     11.463      0.000       1.108       1.575\n",
       "==============================================================================\n",
       "Omnibus:                        2.380   Durbin-Watson:                   2.195\n",
       "Prob(Omnibus):                  0.304   Jarque-Bera (JB):                2.052\n",
       "Skew:                          -0.408   Prob(JB):                        0.359\n",
       "Kurtosis:                       2.985   Cond. No.                     5.77e+09\n",
       "==============================================================================\n",
       "\n",
       "Notes:\n",
       "[1] Standard Errors assume that the covariance matrix of the errors is correctly specified.\n",
       "[2] The condition number is large, 5.77e+09. This might indicate that there are\n",
       "strong multicollinearity or other numerical problems.\n",
       "\"\"\""
      ]
     },
     "execution_count": 230,
     "metadata": {},
     "output_type": "execute_result"
    }
   ],
   "source": [
    "# Tune the mode using Backward Elimination\n",
    "import statsmodels.api as sm\n",
    "X = np.append(arr = np.ones((74, 1)).astype(int), values = X, axis = 1)\n",
    "X_opt = X[:, [0, 1, 2, 3, 4, 5]]\n",
    "X_opt = X_opt.astype(np.float64)\n",
    "regressor_OLS = sm.OLS(endog = y, exog = X_opt).fit()\n",
    "regressor_OLS.summary()"
   ]
  },
  {
   "cell_type": "markdown",
   "metadata": {},
   "source": [
    "The largest P-value is 0.613 on the constant, so let's drop the constant to see how our model does."
   ]
  },
  {
   "cell_type": "code",
   "execution_count": 231,
   "metadata": {},
   "outputs": [
    {
     "data": {
      "text/html": [
       "<table class=\"simpletable\">\n",
       "<caption>OLS Regression Results</caption>\n",
       "<tr>\n",
       "  <th>Dep. Variable:</th>            <td>y</td>        <th>  R-squared (uncentered):</th>      <td>   1.000</td> \n",
       "</tr>\n",
       "<tr>\n",
       "  <th>Model:</th>                   <td>OLS</td>       <th>  Adj. R-squared (uncentered):</th> <td>   1.000</td> \n",
       "</tr>\n",
       "<tr>\n",
       "  <th>Method:</th>             <td>Least Squares</td>  <th>  F-statistic:       </th>          <td>2.018e+05</td>\n",
       "</tr>\n",
       "<tr>\n",
       "  <th>Date:</th>             <td>Mon, 12 Apr 2021</td> <th>  Prob (F-statistic):</th>          <td>3.22e-142</td>\n",
       "</tr>\n",
       "<tr>\n",
       "  <th>Time:</th>                 <td>20:59:39</td>     <th>  Log-Likelihood:    </th>          <td> -109.73</td> \n",
       "</tr>\n",
       "<tr>\n",
       "  <th>No. Observations:</th>      <td>    74</td>      <th>  AIC:               </th>          <td>   229.5</td> \n",
       "</tr>\n",
       "<tr>\n",
       "  <th>Df Residuals:</th>          <td>    69</td>      <th>  BIC:               </th>          <td>   241.0</td> \n",
       "</tr>\n",
       "<tr>\n",
       "  <th>Df Model:</th>              <td>     5</td>      <th>                     </th>              <td> </td>    \n",
       "</tr>\n",
       "<tr>\n",
       "  <th>Covariance Type:</th>      <td>nonrobust</td>    <th>                     </th>              <td> </td>    \n",
       "</tr>\n",
       "</table>\n",
       "<table class=\"simpletable\">\n",
       "<tr>\n",
       "   <td></td>     <th>coef</th>     <th>std err</th>      <th>t</th>      <th>P>|t|</th>  <th>[0.025</th>    <th>0.975]</th>  \n",
       "</tr>\n",
       "<tr>\n",
       "  <th>x1</th> <td>-3.014e-08</td> <td> 4.77e-09</td> <td>   -6.323</td> <td> 0.000</td> <td>-3.96e-08</td> <td>-2.06e-08</td>\n",
       "</tr>\n",
       "<tr>\n",
       "  <th>x2</th> <td>   -0.0369</td> <td>    0.042</td> <td>   -0.888</td> <td> 0.378</td> <td>   -0.120</td> <td>    0.046</td>\n",
       "</tr>\n",
       "<tr>\n",
       "  <th>x3</th> <td>    0.0551</td> <td>    0.026</td> <td>    2.150</td> <td> 0.035</td> <td>    0.004</td> <td>    0.106</td>\n",
       "</tr>\n",
       "<tr>\n",
       "  <th>x4</th> <td>   -0.3652</td> <td>    0.114</td> <td>   -3.200</td> <td> 0.002</td> <td>   -0.593</td> <td>   -0.138</td>\n",
       "</tr>\n",
       "<tr>\n",
       "  <th>x5</th> <td>    1.3559</td> <td>    0.113</td> <td>   12.012</td> <td> 0.000</td> <td>    1.131</td> <td>    1.581</td>\n",
       "</tr>\n",
       "</table>\n",
       "<table class=\"simpletable\">\n",
       "<tr>\n",
       "  <th>Omnibus:</th>       <td> 2.939</td> <th>  Durbin-Watson:     </th> <td>   2.199</td>\n",
       "</tr>\n",
       "<tr>\n",
       "  <th>Prob(Omnibus):</th> <td> 0.230</td> <th>  Jarque-Bera (JB):  </th> <td>   2.478</td>\n",
       "</tr>\n",
       "<tr>\n",
       "  <th>Skew:</th>          <td>-0.447</td> <th>  Prob(JB):          </th> <td>   0.290</td>\n",
       "</tr>\n",
       "<tr>\n",
       "  <th>Kurtosis:</th>      <td> 3.070</td> <th>  Cond. No.          </th> <td>1.38e+08</td>\n",
       "</tr>\n",
       "</table><br/><br/>Notes:<br/>[1] R² is computed without centering (uncentered) since the model does not contain a constant.<br/>[2] Standard Errors assume that the covariance matrix of the errors is correctly specified.<br/>[3] The condition number is large, 1.38e+08. This might indicate that there are<br/>strong multicollinearity or other numerical problems."
      ],
      "text/plain": [
       "<class 'statsmodels.iolib.summary.Summary'>\n",
       "\"\"\"\n",
       "                                 OLS Regression Results                                \n",
       "=======================================================================================\n",
       "Dep. Variable:                      y   R-squared (uncentered):                   1.000\n",
       "Model:                            OLS   Adj. R-squared (uncentered):              1.000\n",
       "Method:                 Least Squares   F-statistic:                          2.018e+05\n",
       "Date:                Mon, 12 Apr 2021   Prob (F-statistic):                   3.22e-142\n",
       "Time:                        20:59:39   Log-Likelihood:                         -109.73\n",
       "No. Observations:                  74   AIC:                                      229.5\n",
       "Df Residuals:                      69   BIC:                                      241.0\n",
       "Df Model:                           5                                                  \n",
       "Covariance Type:            nonrobust                                                  \n",
       "==============================================================================\n",
       "                 coef    std err          t      P>|t|      [0.025      0.975]\n",
       "------------------------------------------------------------------------------\n",
       "x1         -3.014e-08   4.77e-09     -6.323      0.000   -3.96e-08   -2.06e-08\n",
       "x2            -0.0369      0.042     -0.888      0.378      -0.120       0.046\n",
       "x3             0.0551      0.026      2.150      0.035       0.004       0.106\n",
       "x4            -0.3652      0.114     -3.200      0.002      -0.593      -0.138\n",
       "x5             1.3559      0.113     12.012      0.000       1.131       1.581\n",
       "==============================================================================\n",
       "Omnibus:                        2.939   Durbin-Watson:                   2.199\n",
       "Prob(Omnibus):                  0.230   Jarque-Bera (JB):                2.478\n",
       "Skew:                          -0.447   Prob(JB):                        0.290\n",
       "Kurtosis:                       3.070   Cond. No.                     1.38e+08\n",
       "==============================================================================\n",
       "\n",
       "Notes:\n",
       "[1] R² is computed without centering (uncentered) since the model does not contain a constant.\n",
       "[2] Standard Errors assume that the covariance matrix of the errors is correctly specified.\n",
       "[3] The condition number is large, 1.38e+08. This might indicate that there are\n",
       "strong multicollinearity or other numerical problems.\n",
       "\"\"\""
      ]
     },
     "execution_count": 231,
     "metadata": {},
     "output_type": "execute_result"
    }
   ],
   "source": [
    "X_opt = X[:, [1, 2, 3, 4, 5]]\n",
    "X_opt = X_opt.astype(np.float64)\n",
    "regressor_OLS = sm.OLS(endog = y, exog = X_opt).fit()\n",
    "regressor_OLS.summary()"
   ]
  },
  {
   "cell_type": "markdown",
   "metadata": {},
   "source": [
    "The largest P-value is .387 on coefficient x2, so let's drop x2 to see how our model performs."
   ]
  },
  {
   "cell_type": "code",
   "execution_count": 232,
   "metadata": {},
   "outputs": [
    {
     "data": {
      "text/html": [
       "<table class=\"simpletable\">\n",
       "<caption>OLS Regression Results</caption>\n",
       "<tr>\n",
       "  <th>Dep. Variable:</th>            <td>y</td>        <th>  R-squared (uncentered):</th>      <td>   1.000</td> \n",
       "</tr>\n",
       "<tr>\n",
       "  <th>Model:</th>                   <td>OLS</td>       <th>  Adj. R-squared (uncentered):</th> <td>   1.000</td> \n",
       "</tr>\n",
       "<tr>\n",
       "  <th>Method:</th>             <td>Least Squares</td>  <th>  F-statistic:       </th>          <td>2.531e+05</td>\n",
       "</tr>\n",
       "<tr>\n",
       "  <th>Date:</th>             <td>Mon, 12 Apr 2021</td> <th>  Prob (F-statistic):</th>          <td>8.88e-145</td>\n",
       "</tr>\n",
       "<tr>\n",
       "  <th>Time:</th>                 <td>20:59:39</td>     <th>  Log-Likelihood:    </th>          <td> -110.15</td> \n",
       "</tr>\n",
       "<tr>\n",
       "  <th>No. Observations:</th>      <td>    74</td>      <th>  AIC:               </th>          <td>   228.3</td> \n",
       "</tr>\n",
       "<tr>\n",
       "  <th>Df Residuals:</th>          <td>    70</td>      <th>  BIC:               </th>          <td>   237.5</td> \n",
       "</tr>\n",
       "<tr>\n",
       "  <th>Df Model:</th>              <td>     4</td>      <th>                     </th>              <td> </td>    \n",
       "</tr>\n",
       "<tr>\n",
       "  <th>Covariance Type:</th>      <td>nonrobust</td>    <th>                     </th>              <td> </td>    \n",
       "</tr>\n",
       "</table>\n",
       "<table class=\"simpletable\">\n",
       "<tr>\n",
       "   <td></td>     <th>coef</th>     <th>std err</th>      <th>t</th>      <th>P>|t|</th>  <th>[0.025</th>    <th>0.975]</th>  \n",
       "</tr>\n",
       "<tr>\n",
       "  <th>x1</th> <td>-3.057e-08</td> <td> 4.73e-09</td> <td>   -6.456</td> <td> 0.000</td> <td>   -4e-08</td> <td>-2.11e-08</td>\n",
       "</tr>\n",
       "<tr>\n",
       "  <th>x2</th> <td>    0.0375</td> <td>    0.016</td> <td>    2.315</td> <td> 0.024</td> <td>    0.005</td> <td>    0.070</td>\n",
       "</tr>\n",
       "<tr>\n",
       "  <th>x3</th> <td>   -0.3746</td> <td>    0.113</td> <td>   -3.300</td> <td> 0.002</td> <td>   -0.601</td> <td>   -0.148</td>\n",
       "</tr>\n",
       "<tr>\n",
       "  <th>x4</th> <td>    1.3463</td> <td>    0.112</td> <td>   12.000</td> <td> 0.000</td> <td>    1.123</td> <td>    1.570</td>\n",
       "</tr>\n",
       "</table>\n",
       "<table class=\"simpletable\">\n",
       "<tr>\n",
       "  <th>Omnibus:</th>       <td> 4.218</td> <th>  Durbin-Watson:     </th> <td>   2.147</td>\n",
       "</tr>\n",
       "<tr>\n",
       "  <th>Prob(Omnibus):</th> <td> 0.121</td> <th>  Jarque-Bera (JB):  </th> <td>   3.615</td>\n",
       "</tr>\n",
       "<tr>\n",
       "  <th>Skew:</th>          <td>-0.534</td> <th>  Prob(JB):          </th> <td>   0.164</td>\n",
       "</tr>\n",
       "<tr>\n",
       "  <th>Kurtosis:</th>      <td> 3.180</td> <th>  Cond. No.          </th> <td>1.38e+08</td>\n",
       "</tr>\n",
       "</table><br/><br/>Notes:<br/>[1] R² is computed without centering (uncentered) since the model does not contain a constant.<br/>[2] Standard Errors assume that the covariance matrix of the errors is correctly specified.<br/>[3] The condition number is large, 1.38e+08. This might indicate that there are<br/>strong multicollinearity or other numerical problems."
      ],
      "text/plain": [
       "<class 'statsmodels.iolib.summary.Summary'>\n",
       "\"\"\"\n",
       "                                 OLS Regression Results                                \n",
       "=======================================================================================\n",
       "Dep. Variable:                      y   R-squared (uncentered):                   1.000\n",
       "Model:                            OLS   Adj. R-squared (uncentered):              1.000\n",
       "Method:                 Least Squares   F-statistic:                          2.531e+05\n",
       "Date:                Mon, 12 Apr 2021   Prob (F-statistic):                   8.88e-145\n",
       "Time:                        20:59:39   Log-Likelihood:                         -110.15\n",
       "No. Observations:                  74   AIC:                                      228.3\n",
       "Df Residuals:                      70   BIC:                                      237.5\n",
       "Df Model:                           4                                                  \n",
       "Covariance Type:            nonrobust                                                  \n",
       "==============================================================================\n",
       "                 coef    std err          t      P>|t|      [0.025      0.975]\n",
       "------------------------------------------------------------------------------\n",
       "x1         -3.057e-08   4.73e-09     -6.456      0.000      -4e-08   -2.11e-08\n",
       "x2             0.0375      0.016      2.315      0.024       0.005       0.070\n",
       "x3            -0.3746      0.113     -3.300      0.002      -0.601      -0.148\n",
       "x4             1.3463      0.112     12.000      0.000       1.123       1.570\n",
       "==============================================================================\n",
       "Omnibus:                        4.218   Durbin-Watson:                   2.147\n",
       "Prob(Omnibus):                  0.121   Jarque-Bera (JB):                3.615\n",
       "Skew:                          -0.534   Prob(JB):                        0.164\n",
       "Kurtosis:                       3.180   Cond. No.                     1.38e+08\n",
       "==============================================================================\n",
       "\n",
       "Notes:\n",
       "[1] R² is computed without centering (uncentered) since the model does not contain a constant.\n",
       "[2] Standard Errors assume that the covariance matrix of the errors is correctly specified.\n",
       "[3] The condition number is large, 1.38e+08. This might indicate that there are\n",
       "strong multicollinearity or other numerical problems.\n",
       "\"\"\""
      ]
     },
     "execution_count": 232,
     "metadata": {},
     "output_type": "execute_result"
    }
   ],
   "source": [
    "X_opt = X[:, [1, 3, 4, 5]]\n",
    "X_opt = X_opt.astype(np.float64)\n",
    "regressor_OLS = sm.OLS(endog = y, exog = X_opt).fit()\n",
    "regressor_OLS.summary()"
   ]
  },
  {
   "cell_type": "markdown",
   "metadata": {},
   "source": [
    "All P-values are lower than the threshold 0.05, which means all coefficients are statistically significant. Let's rerun the model to see the predictions with our newly generated model."
   ]
  },
  {
   "cell_type": "code",
   "execution_count": 233,
   "metadata": {},
   "outputs": [],
   "source": [
    "# Split data into training and test sets\n",
    "# X_opt only includes SMA_20, Open, High, and Low\n",
    "from sklearn.model_selection import train_test_split\n",
    "X_train, X_test, y_train, y_test = train_test_split(X_opt, y, test_size = 0.2, random_state = 1)"
   ]
  },
  {
   "cell_type": "code",
   "execution_count": 234,
   "metadata": {},
   "outputs": [
    {
     "data": {
      "text/plain": [
       "LinearRegression()"
      ]
     },
     "execution_count": 234,
     "metadata": {},
     "output_type": "execute_result"
    }
   ],
   "source": [
    "# Train the model\n",
    "from sklearn.linear_model import LinearRegression\n",
    "# create instance of linearRegression class\n",
    "regressor = LinearRegression()\n",
    "# fit the model with training set\n",
    "regressor.fit(X_train, y_train)"
   ]
  },
  {
   "cell_type": "code",
   "execution_count": 235,
   "metadata": {},
   "outputs": [],
   "source": [
    "# predict test set results\n",
    "y_pred = regressor.predict(X_test)"
   ]
  },
  {
   "cell_type": "code",
   "execution_count": 236,
   "metadata": {},
   "outputs": [],
   "source": [
    "# Set precision values for nicer printing\n",
    "np.set_printoptions(precision=2)"
   ]
  },
  {
   "cell_type": "code",
   "execution_count": 237,
   "metadata": {},
   "outputs": [
    {
     "name": "stdout",
     "output_type": "stream",
     "text": [
      "[[138.06 139.07]\n",
      " [125.41 125.57]\n",
      " [130.41 132.05]\n",
      " [127.18 127.9 ]\n",
      " [123.32 123.99]\n",
      " [134.84 134.99]\n",
      " [123.98 125.86]\n",
      " [135.55 135.13]\n",
      " [135.05 135.37]\n",
      " [122.96 122.54]\n",
      " [126.84 127.79]\n",
      " [120.08 120.13]\n",
      " [135.17 136.69]\n",
      " [120.23 121.03]\n",
      " [133.96 133.94]]\n"
     ]
    }
   ],
   "source": [
    "# Compare predictions to test results\n",
    "print(np.concatenate((y_pred.reshape(len(y_pred), 1), y_test.reshape(len(y_pred), 1)), 1))"
   ]
  },
  {
   "cell_type": "code",
   "execution_count": 255,
   "metadata": {},
   "outputs": [],
   "source": [
    "# Let's try just using SMA (20 & 50) and Open, since High and Low is not going to be available immediately\n",
    "aapl = dataset[['SMA_20', 'SMA_50', 'Open', 'Close']]"
   ]
  },
  {
   "cell_type": "code",
   "execution_count": 256,
   "metadata": {},
   "outputs": [],
   "source": [
    "X = aapl.iloc[:, :-1].values\n",
    "y = aapl.iloc[:, -1].values"
   ]
  },
  {
   "cell_type": "code",
   "execution_count": 257,
   "metadata": {},
   "outputs": [],
   "source": [
    "# Split data into training and test sets\n",
    "from sklearn.model_selection import train_test_split\n",
    "X_train, X_test, y_train, y_test = train_test_split(X, y, test_size = 0.2, random_state = 1)"
   ]
  },
  {
   "cell_type": "code",
   "execution_count": 258,
   "metadata": {},
   "outputs": [
    {
     "data": {
      "text/plain": [
       "LinearRegression()"
      ]
     },
     "execution_count": 258,
     "metadata": {},
     "output_type": "execute_result"
    }
   ],
   "source": [
    "# Train the model\n",
    "from sklearn.linear_model import LinearRegression\n",
    "# create instance of linearRegression class\n",
    "regressor = LinearRegression()\n",
    "# fit the model with training set\n",
    "regressor.fit(X_train, y_train)"
   ]
  },
  {
   "cell_type": "code",
   "execution_count": 259,
   "metadata": {},
   "outputs": [],
   "source": [
    "# predict test set results\n",
    "y_pred = regressor.predict(X_test)"
   ]
  },
  {
   "cell_type": "code",
   "execution_count": 243,
   "metadata": {},
   "outputs": [],
   "source": [
    "# Set precision values for nicer printing\n",
    "np.set_printoptions(precision=2)"
   ]
  },
  {
   "cell_type": "code",
   "execution_count": 260,
   "metadata": {},
   "outputs": [
    {
     "name": "stdout",
     "output_type": "stream",
     "text": [
      "[[135.56 139.07]\n",
      " [125.27 125.57]\n",
      " [132.24 132.05]\n",
      " [125.64 127.9 ]\n",
      " [121.24 123.99]\n",
      " [134.79 134.99]\n",
      " [123.24 125.86]\n",
      " [134.7  135.13]\n",
      " [133.23 135.37]\n",
      " [123.12 122.54]\n",
      " [123.24 127.79]\n",
      " [121.4  120.13]\n",
      " [133.93 136.69]\n",
      " [120.27 121.03]\n",
      " [134.79 133.94]]\n"
     ]
    }
   ],
   "source": [
    "# Compare predictions to test results\n",
    "print(np.concatenate((y_pred.reshape(len(y_pred), 1), y_test.reshape(len(y_pred), 1)), 1))"
   ]
  },
  {
   "cell_type": "code",
   "execution_count": 277,
   "metadata": {},
   "outputs": [
    {
     "name": "stdout",
     "output_type": "stream",
     "text": [
      "[*********************100%***********************]  1 of 1 completed\n"
     ]
    }
   ],
   "source": [
    "# load in AAPL data\n",
    "dataset = yf.download(tickers='AAPL', period='6mo', interval = '1d')"
   ]
  },
  {
   "cell_type": "code",
   "execution_count": 278,
   "metadata": {},
   "outputs": [],
   "source": [
    "SMA_20 = pd.Series(dataset.Close).rolling(20).mean()\n",
    "SMA_50 = pd.Series(dataset.Close).rolling(50).mean()"
   ]
  },
  {
   "cell_type": "code",
   "execution_count": 279,
   "metadata": {},
   "outputs": [],
   "source": [
    "dataset['SMA_20'] = SMA_20\n",
    "dataset['SMA_50'] = SMA_50"
   ]
  },
  {
   "cell_type": "code",
   "execution_count": 280,
   "metadata": {},
   "outputs": [],
   "source": [
    "dataset['SMA_20'] = dataset['SMA_20'].shift(1)\n",
    "dataset['SMA_50'] = dataset['SMA_50'].shift(1)"
   ]
  },
  {
   "cell_type": "code",
   "execution_count": 281,
   "metadata": {},
   "outputs": [
    {
     "data": {
      "text/html": [
       "<div>\n",
       "<style scoped>\n",
       "    .dataframe tbody tr th:only-of-type {\n",
       "        vertical-align: middle;\n",
       "    }\n",
       "\n",
       "    .dataframe tbody tr th {\n",
       "        vertical-align: top;\n",
       "    }\n",
       "\n",
       "    .dataframe thead th {\n",
       "        text-align: right;\n",
       "    }\n",
       "</style>\n",
       "<table border=\"1\" class=\"dataframe\">\n",
       "  <thead>\n",
       "    <tr style=\"text-align: right;\">\n",
       "      <th></th>\n",
       "      <th>Open</th>\n",
       "      <th>High</th>\n",
       "      <th>Low</th>\n",
       "      <th>Close</th>\n",
       "      <th>Adj Close</th>\n",
       "      <th>Volume</th>\n",
       "      <th>SMA_20</th>\n",
       "      <th>SMA_50</th>\n",
       "    </tr>\n",
       "    <tr>\n",
       "      <th>Date</th>\n",
       "      <th></th>\n",
       "      <th></th>\n",
       "      <th></th>\n",
       "      <th></th>\n",
       "      <th></th>\n",
       "      <th></th>\n",
       "      <th></th>\n",
       "      <th></th>\n",
       "    </tr>\n",
       "  </thead>\n",
       "  <tbody>\n",
       "    <tr>\n",
       "      <th>2020-10-13</th>\n",
       "      <td>125.269997</td>\n",
       "      <td>125.389999</td>\n",
       "      <td>119.650002</td>\n",
       "      <td>121.099998</td>\n",
       "      <td>120.711044</td>\n",
       "      <td>262330500</td>\n",
       "      <td>NaN</td>\n",
       "      <td>NaN</td>\n",
       "    </tr>\n",
       "    <tr>\n",
       "      <th>2020-10-14</th>\n",
       "      <td>121.000000</td>\n",
       "      <td>123.029999</td>\n",
       "      <td>119.620003</td>\n",
       "      <td>121.190002</td>\n",
       "      <td>120.800766</td>\n",
       "      <td>151062300</td>\n",
       "      <td>NaN</td>\n",
       "      <td>NaN</td>\n",
       "    </tr>\n",
       "    <tr>\n",
       "      <th>2020-10-15</th>\n",
       "      <td>118.720001</td>\n",
       "      <td>121.199997</td>\n",
       "      <td>118.150002</td>\n",
       "      <td>120.709999</td>\n",
       "      <td>120.322304</td>\n",
       "      <td>112559200</td>\n",
       "      <td>NaN</td>\n",
       "      <td>NaN</td>\n",
       "    </tr>\n",
       "    <tr>\n",
       "      <th>2020-10-16</th>\n",
       "      <td>121.279999</td>\n",
       "      <td>121.550003</td>\n",
       "      <td>118.809998</td>\n",
       "      <td>119.019997</td>\n",
       "      <td>118.637726</td>\n",
       "      <td>115393800</td>\n",
       "      <td>NaN</td>\n",
       "      <td>NaN</td>\n",
       "    </tr>\n",
       "    <tr>\n",
       "      <th>2020-10-19</th>\n",
       "      <td>119.959999</td>\n",
       "      <td>120.419998</td>\n",
       "      <td>115.660004</td>\n",
       "      <td>115.980003</td>\n",
       "      <td>115.607498</td>\n",
       "      <td>120639300</td>\n",
       "      <td>NaN</td>\n",
       "      <td>NaN</td>\n",
       "    </tr>\n",
       "    <tr>\n",
       "      <th>...</th>\n",
       "      <td>...</td>\n",
       "      <td>...</td>\n",
       "      <td>...</td>\n",
       "      <td>...</td>\n",
       "      <td>...</td>\n",
       "      <td>...</td>\n",
       "      <td>...</td>\n",
       "      <td>...</td>\n",
       "    </tr>\n",
       "    <tr>\n",
       "      <th>2021-04-06</th>\n",
       "      <td>126.500000</td>\n",
       "      <td>127.129997</td>\n",
       "      <td>125.650002</td>\n",
       "      <td>126.209999</td>\n",
       "      <td>126.209999</td>\n",
       "      <td>80171300</td>\n",
       "      <td>121.771000</td>\n",
       "      <td>127.7460</td>\n",
       "    </tr>\n",
       "    <tr>\n",
       "      <th>2021-04-07</th>\n",
       "      <td>125.830002</td>\n",
       "      <td>127.919998</td>\n",
       "      <td>125.139999</td>\n",
       "      <td>127.900002</td>\n",
       "      <td>127.900002</td>\n",
       "      <td>83466700</td>\n",
       "      <td>122.263499</td>\n",
       "      <td>127.4888</td>\n",
       "    </tr>\n",
       "    <tr>\n",
       "      <th>2021-04-08</th>\n",
       "      <td>128.949997</td>\n",
       "      <td>130.389999</td>\n",
       "      <td>128.520004</td>\n",
       "      <td>130.360001</td>\n",
       "      <td>130.360001</td>\n",
       "      <td>88844600</td>\n",
       "      <td>122.604000</td>\n",
       "      <td>127.1884</td>\n",
       "    </tr>\n",
       "    <tr>\n",
       "      <th>2021-04-09</th>\n",
       "      <td>129.800003</td>\n",
       "      <td>133.039993</td>\n",
       "      <td>129.470001</td>\n",
       "      <td>133.000000</td>\n",
       "      <td>133.000000</td>\n",
       "      <td>106513800</td>\n",
       "      <td>123.123000</td>\n",
       "      <td>126.9324</td>\n",
       "    </tr>\n",
       "    <tr>\n",
       "      <th>2021-04-12</th>\n",
       "      <td>132.520004</td>\n",
       "      <td>132.850006</td>\n",
       "      <td>130.630005</td>\n",
       "      <td>131.240005</td>\n",
       "      <td>131.240005</td>\n",
       "      <td>91419983</td>\n",
       "      <td>123.675000</td>\n",
       "      <td>126.7512</td>\n",
       "    </tr>\n",
       "  </tbody>\n",
       "</table>\n",
       "<p>124 rows × 8 columns</p>\n",
       "</div>"
      ],
      "text/plain": [
       "                  Open        High         Low       Close   Adj Close  \\\n",
       "Date                                                                     \n",
       "2020-10-13  125.269997  125.389999  119.650002  121.099998  120.711044   \n",
       "2020-10-14  121.000000  123.029999  119.620003  121.190002  120.800766   \n",
       "2020-10-15  118.720001  121.199997  118.150002  120.709999  120.322304   \n",
       "2020-10-16  121.279999  121.550003  118.809998  119.019997  118.637726   \n",
       "2020-10-19  119.959999  120.419998  115.660004  115.980003  115.607498   \n",
       "...                ...         ...         ...         ...         ...   \n",
       "2021-04-06  126.500000  127.129997  125.650002  126.209999  126.209999   \n",
       "2021-04-07  125.830002  127.919998  125.139999  127.900002  127.900002   \n",
       "2021-04-08  128.949997  130.389999  128.520004  130.360001  130.360001   \n",
       "2021-04-09  129.800003  133.039993  129.470001  133.000000  133.000000   \n",
       "2021-04-12  132.520004  132.850006  130.630005  131.240005  131.240005   \n",
       "\n",
       "               Volume      SMA_20    SMA_50  \n",
       "Date                                         \n",
       "2020-10-13  262330500         NaN       NaN  \n",
       "2020-10-14  151062300         NaN       NaN  \n",
       "2020-10-15  112559200         NaN       NaN  \n",
       "2020-10-16  115393800         NaN       NaN  \n",
       "2020-10-19  120639300         NaN       NaN  \n",
       "...               ...         ...       ...  \n",
       "2021-04-06   80171300  121.771000  127.7460  \n",
       "2021-04-07   83466700  122.263499  127.4888  \n",
       "2021-04-08   88844600  122.604000  127.1884  \n",
       "2021-04-09  106513800  123.123000  126.9324  \n",
       "2021-04-12   91419983  123.675000  126.7512  \n",
       "\n",
       "[124 rows x 8 columns]"
      ]
     },
     "execution_count": 281,
     "metadata": {},
     "output_type": "execute_result"
    }
   ],
   "source": [
    "dataset"
   ]
  },
  {
   "cell_type": "code",
   "execution_count": 282,
   "metadata": {},
   "outputs": [],
   "source": [
    "# drop rows without SMA_20 or SMA_50 values\n",
    "dataset = dataset.iloc[50:, :]"
   ]
  },
  {
   "cell_type": "code",
   "execution_count": 283,
   "metadata": {},
   "outputs": [],
   "source": [
    "aapl = dataset[['Volume', 'SMA_20', 'SMA_50', 'Open', 'High', 'Low', 'Close']]"
   ]
  },
  {
   "cell_type": "code",
   "execution_count": 284,
   "metadata": {},
   "outputs": [],
   "source": [
    "X = aapl.iloc[:, :-1].values\n",
    "y = aapl.iloc[:, -1].values"
   ]
  },
  {
   "cell_type": "code",
   "execution_count": 285,
   "metadata": {},
   "outputs": [],
   "source": [
    "X_opt = X[:, [1, 3, 4, 5]]\n",
    "X_opt = X_opt.astype(np.float64)"
   ]
  },
  {
   "cell_type": "code",
   "execution_count": 286,
   "metadata": {},
   "outputs": [],
   "source": [
    "# Split data into training and test sets\n",
    "# X_opt only includes SMA_20, Open, High, and Low\n",
    "from sklearn.model_selection import train_test_split\n",
    "X_train, X_test, y_train, y_test = train_test_split(X_opt, y, test_size = 0.2, random_state = 1)"
   ]
  },
  {
   "cell_type": "code",
   "execution_count": 287,
   "metadata": {},
   "outputs": [
    {
     "data": {
      "text/plain": [
       "LinearRegression()"
      ]
     },
     "execution_count": 287,
     "metadata": {},
     "output_type": "execute_result"
    }
   ],
   "source": [
    "# Train the model\n",
    "from sklearn.linear_model import LinearRegression\n",
    "# create instance of linearRegression class\n",
    "regressor = LinearRegression()\n",
    "# fit the model with training set\n",
    "regressor.fit(X_train, y_train)"
   ]
  },
  {
   "cell_type": "code",
   "execution_count": 288,
   "metadata": {},
   "outputs": [],
   "source": [
    "# predict test set results\n",
    "y_pred = regressor.predict(X_test)"
   ]
  },
  {
   "cell_type": "code",
   "execution_count": 289,
   "metadata": {},
   "outputs": [],
   "source": [
    "# Set precision values for nicer printing\n",
    "np.set_printoptions(precision=2)"
   ]
  },
  {
   "cell_type": "code",
   "execution_count": 290,
   "metadata": {},
   "outputs": [
    {
     "name": "stdout",
     "output_type": "stream",
     "text": [
      "[[137.96 139.07]\n",
      " [126.03 125.57]\n",
      " [131.04 132.05]\n",
      " [126.8  127.9 ]\n",
      " [122.35 123.99]\n",
      " [135.38 134.99]\n",
      " [121.67 125.86]\n",
      " [134.72 135.13]\n",
      " [134.66 135.37]\n",
      " [123.06 122.54]\n",
      " [125.74 127.79]\n",
      " [120.55 120.13]\n",
      " [136.14 136.69]\n",
      " [119.86 121.03]\n",
      " [134.27 133.94]]\n"
     ]
    }
   ],
   "source": [
    "# Compare predictions to test results\n",
    "print(np.concatenate((y_pred.reshape(len(y_pred), 1), y_test.reshape(len(y_pred), 1)), 1))"
   ]
  },
  {
   "cell_type": "code",
   "execution_count": 293,
   "metadata": {},
   "outputs": [],
   "source": [
    "SMA_20_arr = np.array(SMA_20)"
   ]
  },
  {
   "cell_type": "code",
   "execution_count": 296,
   "metadata": {},
   "outputs": [],
   "source": [
    "test_SMA_20 = SMA_20_arr[-1]"
   ]
  },
  {
   "cell_type": "code",
   "execution_count": 299,
   "metadata": {},
   "outputs": [
    {
     "data": {
      "text/html": [
       "<div>\n",
       "<style scoped>\n",
       "    .dataframe tbody tr th:only-of-type {\n",
       "        vertical-align: middle;\n",
       "    }\n",
       "\n",
       "    .dataframe tbody tr th {\n",
       "        vertical-align: top;\n",
       "    }\n",
       "\n",
       "    .dataframe thead th {\n",
       "        text-align: right;\n",
       "    }\n",
       "</style>\n",
       "<table border=\"1\" class=\"dataframe\">\n",
       "  <thead>\n",
       "    <tr style=\"text-align: right;\">\n",
       "      <th></th>\n",
       "      <th>Volume</th>\n",
       "      <th>SMA_20</th>\n",
       "      <th>SMA_50</th>\n",
       "      <th>Open</th>\n",
       "      <th>High</th>\n",
       "      <th>Low</th>\n",
       "      <th>Close</th>\n",
       "    </tr>\n",
       "    <tr>\n",
       "      <th>Date</th>\n",
       "      <th></th>\n",
       "      <th></th>\n",
       "      <th></th>\n",
       "      <th></th>\n",
       "      <th></th>\n",
       "      <th></th>\n",
       "      <th></th>\n",
       "    </tr>\n",
       "  </thead>\n",
       "  <tbody>\n",
       "    <tr>\n",
       "      <th>2020-12-23</th>\n",
       "      <td>88223700</td>\n",
       "      <td>123.316500</td>\n",
       "      <td>119.3242</td>\n",
       "      <td>132.160004</td>\n",
       "      <td>132.429993</td>\n",
       "      <td>130.779999</td>\n",
       "      <td>130.960007</td>\n",
       "    </tr>\n",
       "    <tr>\n",
       "      <th>2020-12-24</th>\n",
       "      <td>54930100</td>\n",
       "      <td>124.106000</td>\n",
       "      <td>119.5214</td>\n",
       "      <td>131.320007</td>\n",
       "      <td>133.460007</td>\n",
       "      <td>131.100006</td>\n",
       "      <td>131.970001</td>\n",
       "    </tr>\n",
       "    <tr>\n",
       "      <th>2020-12-28</th>\n",
       "      <td>124486200</td>\n",
       "      <td>124.903000</td>\n",
       "      <td>119.7370</td>\n",
       "      <td>133.990005</td>\n",
       "      <td>137.339996</td>\n",
       "      <td>133.509995</td>\n",
       "      <td>136.690002</td>\n",
       "    </tr>\n",
       "    <tr>\n",
       "      <th>2020-12-29</th>\n",
       "      <td>121047300</td>\n",
       "      <td>125.908001</td>\n",
       "      <td>120.0566</td>\n",
       "      <td>138.050003</td>\n",
       "      <td>138.789993</td>\n",
       "      <td>134.339996</td>\n",
       "      <td>134.869995</td>\n",
       "    </tr>\n",
       "    <tr>\n",
       "      <th>2020-12-30</th>\n",
       "      <td>96452100</td>\n",
       "      <td>126.699000</td>\n",
       "      <td>120.3736</td>\n",
       "      <td>135.580002</td>\n",
       "      <td>135.990005</td>\n",
       "      <td>133.399994</td>\n",
       "      <td>133.720001</td>\n",
       "    </tr>\n",
       "    <tr>\n",
       "      <th>...</th>\n",
       "      <td>...</td>\n",
       "      <td>...</td>\n",
       "      <td>...</td>\n",
       "      <td>...</td>\n",
       "      <td>...</td>\n",
       "      <td>...</td>\n",
       "      <td>...</td>\n",
       "    </tr>\n",
       "    <tr>\n",
       "      <th>2021-03-29</th>\n",
       "      <td>80819200</td>\n",
       "      <td>121.979999</td>\n",
       "      <td>128.5548</td>\n",
       "      <td>121.650002</td>\n",
       "      <td>122.580002</td>\n",
       "      <td>120.730003</td>\n",
       "      <td>121.389999</td>\n",
       "    </tr>\n",
       "    <tr>\n",
       "      <th>2021-03-30</th>\n",
       "      <td>85671900</td>\n",
       "      <td>121.659999</td>\n",
       "      <td>128.4044</td>\n",
       "      <td>120.110001</td>\n",
       "      <td>120.400002</td>\n",
       "      <td>118.860001</td>\n",
       "      <td>119.900002</td>\n",
       "    </tr>\n",
       "    <tr>\n",
       "      <th>2021-03-31</th>\n",
       "      <td>118323800</td>\n",
       "      <td>121.398999</td>\n",
       "      <td>128.2596</td>\n",
       "      <td>121.650002</td>\n",
       "      <td>123.519997</td>\n",
       "      <td>121.150002</td>\n",
       "      <td>122.150002</td>\n",
       "    </tr>\n",
       "    <tr>\n",
       "      <th>2021-04-01</th>\n",
       "      <td>74957400</td>\n",
       "      <td>121.403499</td>\n",
       "      <td>128.1460</td>\n",
       "      <td>123.660004</td>\n",
       "      <td>124.180000</td>\n",
       "      <td>122.489998</td>\n",
       "      <td>123.000000</td>\n",
       "    </tr>\n",
       "    <tr>\n",
       "      <th>2021-04-05</th>\n",
       "      <td>88651200</td>\n",
       "      <td>121.546999</td>\n",
       "      <td>127.9654</td>\n",
       "      <td>123.870003</td>\n",
       "      <td>126.160004</td>\n",
       "      <td>123.070000</td>\n",
       "      <td>125.900002</td>\n",
       "    </tr>\n",
       "  </tbody>\n",
       "</table>\n",
       "<p>69 rows × 7 columns</p>\n",
       "</div>"
      ],
      "text/plain": [
       "               Volume      SMA_20    SMA_50        Open        High  \\\n",
       "Date                                                                  \n",
       "2020-12-23   88223700  123.316500  119.3242  132.160004  132.429993   \n",
       "2020-12-24   54930100  124.106000  119.5214  131.320007  133.460007   \n",
       "2020-12-28  124486200  124.903000  119.7370  133.990005  137.339996   \n",
       "2020-12-29  121047300  125.908001  120.0566  138.050003  138.789993   \n",
       "2020-12-30   96452100  126.699000  120.3736  135.580002  135.990005   \n",
       "...               ...         ...       ...         ...         ...   \n",
       "2021-03-29   80819200  121.979999  128.5548  121.650002  122.580002   \n",
       "2021-03-30   85671900  121.659999  128.4044  120.110001  120.400002   \n",
       "2021-03-31  118323800  121.398999  128.2596  121.650002  123.519997   \n",
       "2021-04-01   74957400  121.403499  128.1460  123.660004  124.180000   \n",
       "2021-04-05   88651200  121.546999  127.9654  123.870003  126.160004   \n",
       "\n",
       "                   Low       Close  \n",
       "Date                                \n",
       "2020-12-23  130.779999  130.960007  \n",
       "2020-12-24  131.100006  131.970001  \n",
       "2020-12-28  133.509995  136.690002  \n",
       "2020-12-29  134.339996  134.869995  \n",
       "2020-12-30  133.399994  133.720001  \n",
       "...                ...         ...  \n",
       "2021-03-29  120.730003  121.389999  \n",
       "2021-03-30  118.860001  119.900002  \n",
       "2021-03-31  121.150002  122.150002  \n",
       "2021-04-01  122.489998  123.000000  \n",
       "2021-04-05  123.070000  125.900002  \n",
       "\n",
       "[69 rows x 7 columns]"
      ]
     },
     "execution_count": 299,
     "metadata": {},
     "output_type": "execute_result"
    }
   ],
   "source": [
    "aapl.head(-5)"
   ]
  },
  {
   "cell_type": "code",
   "execution_count": 300,
   "metadata": {},
   "outputs": [
    {
     "name": "stdout",
     "output_type": "stream",
     "text": [
      "[126.]\n"
     ]
    }
   ],
   "source": [
    "print(regressor.predict([[test_SMA_20, 125.90, 127.00, 125.00]]))"
   ]
  },
  {
   "cell_type": "code",
   "execution_count": null,
   "metadata": {},
   "outputs": [],
   "source": []
  }
 ],
 "metadata": {
  "kernelspec": {
   "display_name": "Python [conda env:PythonData]",
   "language": "python",
   "name": "conda-env-PythonData-py"
  },
  "language_info": {
   "codemirror_mode": {
    "name": "ipython",
    "version": 3
   },
   "file_extension": ".py",
   "mimetype": "text/x-python",
   "name": "python",
   "nbconvert_exporter": "python",
   "pygments_lexer": "ipython3",
   "version": "3.6.10"
  }
 },
 "nbformat": 4,
 "nbformat_minor": 4
}
